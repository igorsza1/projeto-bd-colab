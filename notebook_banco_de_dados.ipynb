import sqlite3
import os
from datetime import datetime

DB_FILE = 'sistema_vendas.db'

# Remove o banco antigo, se existir
if os.path.exists(DB_FILE):
    os.remove(DB_FILE)

conn = None
cursor = None

try:
    conn = sqlite3.connect(DB_FILE)
    cursor = conn.cursor()
    print(f"✅ Conexão com o banco de dados '{DB_FILE}' estabelecida.")
except sqlite3.Error as e:
    print(f"❌ Erro ao conectar ao banco de dados: {e}")
    exit()

if conn:
    try:
        # Tabela de usuários
        cursor.execute('''
            CREATE TABLE IF NOT EXISTS Usuarios (
                id INTEGER PRIMARY KEY AUTOINCREMENT,
                nome TEXT NOT NULL,
                email TEXT UNIQUE NOT NULL
            )
        ''')
        print("🧑‍💼 Tabela 'Usuarios' criada.")

        # Tabela de itens
        cursor.execute('''
            CREATE TABLE IF NOT EXISTS Itens (
                id INTEGER PRIMARY KEY AUTOINCREMENT,
                nome_item TEXT NOT NULL,
                preco REAL NOT NULL
            )
        ''')
        print("📦 Tabela 'Itens' criada.")

        # Tabela de pedidos
        cursor.execute('''
            CREATE TABLE IF NOT EXISTS Pedidos (
                id INTEGER PRIMARY KEY AUTOINCREMENT,
                usuario_id INTEGER NOT NULL,
                item_id INTEGER NOT NULL,
                quantidade INTEGER NOT NULL,
                data_pedido TEXT NOT NULL,
                FOREIGN KEY (usuario_id) REFERENCES Usuarios(id),
                FOREIGN KEY (item_id) REFERENCES Itens(id)
            )
        ''')
        print("🧾 Tabela 'Pedidos' criada.")

        conn.commit()
    except sqlite3.Error as e:
        print(f"Erro ao criar tabelas: {e}")
        conn.rollback()

    print("\n📥 Inserindo dados...")

    usuarios = [
        ('Lucas Martins', 'lucas@email.com'),
        ('Fernanda Lopes', 'fernanda@email.com'),
        ('João Mendes', 'joao@email.com')
    ]
    cursor.executemany("INSERT INTO Usuarios (nome, email) VALUES (?, ?)", usuarios)
    print("✔️ Usuários inseridos.")

    itens = [
        ('Cadeira Gamer', 900.00),
        ('Webcam HD', 220.00),
        ('Headset Pro', 480.00),
        ('Suporte Articulado', 130.00)
    ]
    cursor.executemany("INSERT INTO Itens (nome_item, preco) VALUES (?, ?)", itens)
    print("✔️ Itens inseridos.")

    data_atual = datetime.now().strftime('%Y-%m-%d %H:%M:%S')
    pedidos = [
        (1, 1, 1, data_atual),
        (2, 2, 2, data_atual),
        (1, 3, 1, data_atual),
        (3, 4, 1, data_atual)
    ]
    cursor.executemany("INSERT INTO Pedidos (usuario_id, item_id, quantidade, data_pedido) VALUES (?, ?, ?, ?)", pedidos)
    conn.commit()
    print("✔️ Pedidos inseridos.")

    print("\n📊 Relatórios:")

    print("\n👥 Lista de Usuários:")
    cursor.execute("SELECT * FROM Usuarios")
    for row in cursor.fetchall():
        print(row)

    print("\n💰 Itens com preço acima de R$200:")
    cursor.execute("SELECT nome_item, preco FROM Itens WHERE preco > 200")
    for item in cursor.fetchall():
        print(item)

    print("\n🧾 Detalhes dos Pedidos:")
    cursor.execute('''
        SELECT
            P.id,
            U.nome,
            I.nome_item,
            P.quantidade,
            I.preco,
            (P.quantidade * I.preco) AS total,
            P.data_pedido
        FROM Pedidos P
        JOIN Usuarios U ON P.usuario_id = U.id
        JOIN Itens I ON P.item_id = I.id
    ''')
    for pedido in cursor.fetchall():
        print(f"Pedido #{pedido[0]} | Cliente: {pedido[1]} | Item: {pedido[2]} | Qtd: {pedido[3]} | Unit: R${pedido[4]:.2f} | Total: R${pedido[5]:.2f} | Data: {pedido[6]}")

    print("\n📦 Itens comprados por Lucas Martins:")
    cursor.execute('''
        SELECT DISTINCT I.nome_item
        FROM Pedidos P
        JOIN Usuarios U ON P.usuario_id = U.id
        JOIN Itens I ON P.item_id = I.id
        WHERE U.nome = 'Lucas Martins'
    ''')
    for item in cursor.fetchall():
        print(f"- {item[0]}")

    print("\n💳 Gasto total por usuário:")
    cursor.execute('''
        SELECT
            U.nome,
            SUM(P.quantidade * I.preco) AS total_gasto
        FROM Pedidos P
        JOIN Usuarios U ON P.usuario_id = U.id
        JOIN Itens I ON P.item_id = I.id
        GROUP BY U.nome
        ORDER BY total_gasto DESC
    ''')
    for user in cursor.fetchall():
        print(f"{user[0]} gastou R${user[1]:.2f}")

    conn.close()
    print(f"\n🔒 Conexão com o banco de dados '{DB_FILE}' encerrada.")
