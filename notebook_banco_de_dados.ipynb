import sqlite3

try:
    # Conexão com o banco de dados
    conn = sqlite3.connect('seu_banco_de_dados.db')
    cursor = conn.cursor()

    # --- CONSULTAS ---

    # 1. Listar todos os clientes
    print("\n--- Lista de Clientes ---")
    for row in cursor.execute("SELECT * FROM clientes;"):
        print(row)

    # 2. Listar todos os itens com preço de compra maior que R$1000
    print("\n--- Itens com preço de compra > R$1000 ---")
    for row in cursor.execute("SELECT * FROM itens WHERE precocompra > 1000;"):
        print(row)

    # 3. Mostrar as compras com nome do cliente e descrição do item
    print("\n--- Compras realizadas (nome do cliente e descrição do item) ---")
    cursor.execute('''
        SELECT clientes.nome, itens.descricao, compras.quantidade, compras.precovenda
        FROM compras
        JOIN clientes ON compras.idCliente = clientes.id
        JOIN itens ON compras.idItem = itens.id;
    ''')
    for row in cursor.fetchall():
        print(row)

    # 4. Mostrar o total gasto por cada cliente
    print("\n--- Total gasto por cada cliente ---")
    cursor.execute('''
        SELECT clientes.nome, SUM(compras.precovenda * compras.quantidade) AS total_gasto
        FROM compras
        JOIN clientes ON compras.idCliente = clientes.id
        GROUP BY clientes.nome;
    ''')
    for row in cursor.fetchall():
        print(row)

    # 5. Mostrar os itens em promoção com valor de desconto
    print("\n--- Promoções Ativas ---")
    cursor.execute('''
        SELECT descricao, desconto * 100 AS percentual_desconto, validade
        FROM promocoes
        WHERE validade >= DATE('now');
    ''')
    for row in cursor.fetchall():
        print(row)

    # 6. Verificar itens com estoque abaixo de 50 unidades
    print("\n--- Itens com estoque baixo (< 50 unidades) ---")
    cursor.execute('''
        SELECT itens.descricao, estoques.quantidade_estoque
        FROM estoques
        JOIN itens ON estoques.idItem = itens.id
        WHERE quantidade_estoque < 50;
    ''')
    for row in cursor.fetchall():
        print(row)

    # 7. Mostrar os fornecedores cadastrados
    print("\n--- Fornecedores ---")
    for row in cursor.execute("SELECT * FROM fornecedores;"):
        print(row)

except sqlite3.Error as e:
    print("Erro ao acessar o banco de dados:", e)

finally:
    # --- FECHAMENTO ---
    if conn:
        conn.close()
        print("\nConexão com o banco de dados encerrada.")
